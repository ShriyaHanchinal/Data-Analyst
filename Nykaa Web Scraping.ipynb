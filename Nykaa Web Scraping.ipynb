{
 "cells": [
  {
   "cell_type": "code",
   "execution_count": 1,
   "id": "d9b2ab29",
   "metadata": {},
   "outputs": [],
   "source": [
    "from bs4 import BeautifulSoup\n",
    "import requests\n",
    "import time\n",
    "import datetime\n",
    "import smtplib\n",
    "import csv\n",
    "import pandas as pd\n",
    "from dateutil.parser import parser\n"
   ]
  },
  {
   "cell_type": "code",
   "execution_count": 2,
   "id": "ab31d4bf",
   "metadata": {},
   "outputs": [],
   "source": [
    "def send_mail():\n",
    "    server = smtplib.SMTP('smtp.gmail.com', 587)\n",
    "    server.ehlo()\n",
    "    server.starttls()\n",
    "    server.login('shriyahanchinal43@gmail.com', 'ahbvfklewsidcflf')\n",
    "    subject = \"Hurry up and Buy your Blazer now!!!\"\n",
    "    body = \"Shriya, This is the moment you have been waiting for. Your Blazer is now below 5000/-\"\n",
    "    msg = f\"Subject: {subject}\\n\\n{body}\"\n",
    "    server.sendmail('shriyahanchinal43@gmail.com', 'shriyah43@gmail.com', msg)\n"
   ]
  },
  {
   "cell_type": "code",
   "execution_count": 3,
   "id": "895bbe74",
   "metadata": {},
   "outputs": [],
   "source": [
    "URL = 'https://www.nykaafashion.com/cover-story-black-solid-work-blazer/p/10835439'\n",
    "headers = {\"User-Agent\": \"Mozilla/5.0 (Windows NT 10.0; Win64; x64) AppleWebKit/537.36 (KHTML, like Gecko) Chrome/114.0.0.0 Safari/537.36\", \"Accept-Encoding\": \"gzip, deflate, br\", \"Accept\": \"text/html,application/xhtml+xml,application/xml;q=0.9,image/avif,image/webp,image/apng,*/*;q=0.8,application/signed-exchange;v=b3;q=0.7\", \"Upgrade-Insecure-Requests\": \"1\"}\n",
    "page = requests.get(URL, headers = headers)\n",
    "soup1 = BeautifulSoup(page.content, \"html.parser\")\n",
    "soup2 = BeautifulSoup(soup1.prettify(), \"html.parser\")\n",
    "\n",
    "title = soup2.find(\"span\", attrs={\"class\":'css-cmh3n9'}).get_text(strip = True, separator = \" \")\n",
    "price1 = soup2.find(\"span\", attrs={\"class\":'css-1byl9fj'}).get_text(strip = True, separator = \" \")\n",
    "\n",
    "price = ''.join(filter(str.isalnum, price1))\n",
    "\n",
    "today = datetime.date.today()\n",
    "\n",
    "header = ['Title', 'Price', 'Today']\n",
    "data = [title, price, today]\n"
   ]
  },
  {
   "cell_type": "code",
   "execution_count": 4,
   "id": "09d7d5c1",
   "metadata": {},
   "outputs": [],
   "source": [
    "with open(r'C:\\Users\\SHREYA\\Desktop\\NykaaWebScraping.csv','w', newline='', encoding='UTF8') as f:\n",
    "        writer = csv.writer(f)\n",
    "        writer.writerow(header)\n",
    "        writer.writerow(data)"
   ]
  },
  {
   "cell_type": "code",
   "execution_count": 5,
   "id": "73eadbf6",
   "metadata": {},
   "outputs": [],
   "source": [
    "def check_price():\n",
    "    URL = 'https://www.nykaafashion.com/cover-story-black-solid-work-blazer/p/10835439'\n",
    "    headers = {\"User-Agent\": \"Mozilla/5.0 (Windows NT 10.0; Win64; x64) AppleWebKit/537.36 (KHTML, like Gecko) Chrome/114.0.0.0 Safari/537.36\", \"Accept-Encoding\": \"gzip, deflate, br\", \"Accept\": \"text/html,application/xhtml+xml,application/xml;q=0.9,image/avif,image/webp,image/apng,*/*;q=0.8,application/signed-exchange;v=b3;q=0.7\", \"Upgrade-Insecure-Requests\": \"1\"}\n",
    "    page = requests.get(URL, headers = headers)\n",
    "    soup1 = BeautifulSoup(page.content, \"html.parser\")\n",
    "    soup2 = BeautifulSoup(soup1.prettify(), \"html.parser\")\n",
    "\n",
    "    title = soup2.find(\"span\", attrs={\"class\":'css-cmh3n9'}).get_text(strip = True, separator = \" \")\n",
    "    price1 = soup2.find(\"span\", attrs={\"class\":'css-1byl9fj'}).get_text(strip = True, separator = \" \")\n",
    "    \n",
    "    price = ''.join(filter(str.isalnum, price1))\n",
    "    price = int(price)\n",
    "        \n",
    "    today = datetime.date.today()\n",
    "\n",
    "    header = ['Title', 'Price', 'Today']\n",
    "    data = [title, price, today]\n",
    "\n",
    "    with open(r'C:\\Users\\SHREYA\\Desktop\\NykaaWebScraping.csv','a+', newline='', encoding='UTF8') as f:\n",
    "        writer = csv.writer(f)\n",
    "        writer.writerow(data)\n",
    "        \n",
    "    if(price < 5000):\n",
    "        send_mail()"
   ]
  },
  {
   "cell_type": "code",
   "execution_count": 6,
   "id": "62af84d7",
   "metadata": {},
   "outputs": [
    {
     "ename": "KeyboardInterrupt",
     "evalue": "",
     "output_type": "error",
     "traceback": [
      "\u001b[1;31m---------------------------------------------------------------------------\u001b[0m",
      "\u001b[1;31mKeyboardInterrupt\u001b[0m                         Traceback (most recent call last)",
      "Cell \u001b[1;32mIn[6], line 3\u001b[0m\n\u001b[0;32m      1\u001b[0m \u001b[38;5;28;01mwhile\u001b[39;00m(\u001b[38;5;28;01mTrue\u001b[39;00m):\n\u001b[0;32m      2\u001b[0m     check_price()\n\u001b[1;32m----> 3\u001b[0m     \u001b[43mtime\u001b[49m\u001b[38;5;241;43m.\u001b[39;49m\u001b[43msleep\u001b[49m\u001b[43m(\u001b[49m\u001b[38;5;241;43m1\u001b[39;49m\u001b[43m)\u001b[49m\n",
      "\u001b[1;31mKeyboardInterrupt\u001b[0m: "
     ]
    }
   ],
   "source": [
    "while(True):\n",
    "    check_price()\n",
    "    time.sleep(86400)"
   ]
  },
  {
   "cell_type": "code",
   "execution_count": 7,
   "id": "d2c04a92",
   "metadata": {},
   "outputs": [
    {
     "data": {
      "text/html": [
       "<div>\n",
       "<style scoped>\n",
       "    .dataframe tbody tr th:only-of-type {\n",
       "        vertical-align: middle;\n",
       "    }\n",
       "\n",
       "    .dataframe tbody tr th {\n",
       "        vertical-align: top;\n",
       "    }\n",
       "\n",
       "    .dataframe thead th {\n",
       "        text-align: right;\n",
       "    }\n",
       "</style>\n",
       "<table border=\"1\" class=\"dataframe\">\n",
       "  <thead>\n",
       "    <tr style=\"text-align: right;\">\n",
       "      <th></th>\n",
       "      <th>Title</th>\n",
       "      <th>Price</th>\n",
       "      <th>Today</th>\n",
       "    </tr>\n",
       "  </thead>\n",
       "  <tbody>\n",
       "    <tr>\n",
       "      <th>0</th>\n",
       "      <td>Black Solid Work Blazer</td>\n",
       "      <td>3990</td>\n",
       "      <td>2023-07-20</td>\n",
       "    </tr>\n",
       "    <tr>\n",
       "      <th>1</th>\n",
       "      <td>Black Solid Work Blazer</td>\n",
       "      <td>3990</td>\n",
       "      <td>2023-07-20</td>\n",
       "    </tr>\n",
       "    <tr>\n",
       "      <th>2</th>\n",
       "      <td>Black Solid Work Blazer</td>\n",
       "      <td>3990</td>\n",
       "      <td>2023-07-20</td>\n",
       "    </tr>\n",
       "  </tbody>\n",
       "</table>\n",
       "</div>"
      ],
      "text/plain": [
       "                     Title  Price       Today\n",
       "0  Black Solid Work Blazer   3990  2023-07-20\n",
       "1  Black Solid Work Blazer   3990  2023-07-20\n",
       "2  Black Solid Work Blazer   3990  2023-07-20"
      ]
     },
     "execution_count": 7,
     "metadata": {},
     "output_type": "execute_result"
    }
   ],
   "source": [
    "df = pd.read_csv(r\"C:\\Users\\SHREYA\\Desktop\\NykaaWebScraping.csv\")\n",
    "\n",
    "df"
   ]
  },
  {
   "cell_type": "code",
   "execution_count": null,
   "id": "54a996a6",
   "metadata": {},
   "outputs": [],
   "source": []
  }
 ],
 "metadata": {
  "kernelspec": {
   "display_name": "Python 3 (ipykernel)",
   "language": "python",
   "name": "python3"
  },
  "language_info": {
   "codemirror_mode": {
    "name": "ipython",
    "version": 3
   },
   "file_extension": ".py",
   "mimetype": "text/x-python",
   "name": "python",
   "nbconvert_exporter": "python",
   "pygments_lexer": "ipython3",
   "version": "3.10.9"
  }
 },
 "nbformat": 4,
 "nbformat_minor": 5
}
